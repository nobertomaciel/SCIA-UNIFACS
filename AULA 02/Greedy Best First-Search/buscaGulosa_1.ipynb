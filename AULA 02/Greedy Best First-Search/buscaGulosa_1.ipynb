{
  "nbformat": 4,
  "nbformat_minor": 0,
  "metadata": {
    "colab": {
      "provenance": []
    },
    "kernelspec": {
      "name": "python3",
      "display_name": "Python 3"
    },
    "language_info": {
      "name": "python"
    }
  },
  "cells": [
    {
      "cell_type": "code",
      "execution_count": 6,
      "metadata": {
        "id": "9BSEaYvAOTHD"
      },
      "outputs": [],
      "source": [
        "import heapq\n",
        "\n",
        "def busca_gulosa(grafo, inicio, objetivo, heuristica):\n",
        "    # Fila de prioridade: (heuristica, nó, caminho)\n",
        "    fronteira = []\n",
        "    heapq.heappush(fronteira, (heuristica[inicio], inicio, [inicio]))\n",
        "\n",
        "    visitados = set()\n",
        "\n",
        "    while fronteira:\n",
        "        h_atual, no_atual, caminho = heapq.heappop(fronteira)\n",
        "\n",
        "        if no_atual == objetivo:\n",
        "            return caminho  # Caminho encontrado\n",
        "\n",
        "        if no_atual in visitados:\n",
        "            continue\n",
        "\n",
        "        visitados.add(no_atual)\n",
        "\n",
        "        for vizinho in grafo.get(no_atual, []):\n",
        "            if vizinho not in visitados:\n",
        "                novo_caminho = caminho + [vizinho]\n",
        "                heapq.heappush(fronteira, (heuristica[vizinho], vizinho, novo_caminho))\n",
        "\n",
        "    return None  # Caminho não encontrado\n"
      ]
    },
    {
      "cell_type": "code",
      "source": [
        "grafo = {\n",
        "    'A': ['B', 'C'],\n",
        "    'B': ['D', 'E'],\n",
        "    'C': ['F'],\n",
        "    'D': [],\n",
        "    'E': ['F'],\n",
        "    'F': []\n",
        "}\n",
        "\n",
        "heuristica = {\n",
        "    'A': 6,\n",
        "    'B': 4,\n",
        "    'C': 5,\n",
        "    'D': 2,\n",
        "    'E': 1,\n",
        "    'F': 0\n",
        "}\n",
        "\n",
        "inicio = 'A'\n",
        "objetivo = 'F'\n",
        "\n",
        "caminho = busca_gulosa(grafo, inicio, objetivo, heuristica)\n",
        "\n",
        "if caminho:\n",
        "    print(\"Caminho encontrado:\", caminho)\n",
        "else:\n",
        "    print(\"Caminho não encontrado.\")\n"
      ],
      "metadata": {
        "colab": {
          "base_uri": "https://localhost:8080/"
        },
        "id": "8KZPHHHyOcwF",
        "outputId": "55d3a286-4ae0-49b1-abe7-be39ff16adbe"
      },
      "execution_count": 7,
      "outputs": [
        {
          "output_type": "stream",
          "name": "stdout",
          "text": [
            "Caminho encontrado: ['A', 'B', 'E', 'F']\n"
          ]
        }
      ]
    }
  ]
}