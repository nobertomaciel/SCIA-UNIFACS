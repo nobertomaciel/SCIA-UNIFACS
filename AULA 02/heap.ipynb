{
  "nbformat": 4,
  "nbformat_minor": 0,
  "metadata": {
    "colab": {
      "provenance": []
    },
    "kernelspec": {
      "name": "python3",
      "display_name": "Python 3"
    },
    "language_info": {
      "name": "python"
    }
  },
  "cells": [
    {
      "cell_type": "code",
      "execution_count": 7,
      "metadata": {
        "id": "HMeYHpYfspvD"
      },
      "outputs": [],
      "source": [
        "import heapq\n",
        "\n",
        "heaptest = []\n",
        "heapq.heappush(heaptest, [10,\"A\"])\n",
        "heapq.heappush(heaptest, [5,\"B\"])\n",
        "heapq.heappush(heaptest, [20,\"C\"])\n",
        "heapq.heappush(heaptest, [2,\"D\"])"
      ]
    },
    {
      "cell_type": "code",
      "source": [
        "display(heaptest)"
      ],
      "metadata": {
        "colab": {
          "base_uri": "https://localhost:8080/",
          "height": 35
        },
        "id": "h-YZ-QGostbk",
        "outputId": "2528caf0-5644-44b4-e47a-9fa6602de3cc"
      },
      "execution_count": 12,
      "outputs": [
        {
          "output_type": "display_data",
          "data": {
            "text/plain": [
              "[[2, 'D'], [5, 'B'], [20, 'C'], [10, 'A']]"
            ]
          },
          "metadata": {}
        }
      ]
    }
  ]
}