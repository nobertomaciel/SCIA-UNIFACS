{
  "nbformat": 4,
  "nbformat_minor": 0,
  "metadata": {
    "colab": {
      "provenance": []
    },
    "kernelspec": {
      "name": "python3",
      "display_name": "Python 3"
    },
    "language_info": {
      "name": "python"
    }
  },
  "cells": [
    {
      "cell_type": "code",
      "execution_count": null,
      "metadata": {
        "id": "9BSEaYvAOTHD"
      },
      "outputs": [],
      "source": [
        "import heapq\n",
        "# Importa a biblioteca heapq, que fornece uma fila de prioridade baseada em heap.\n",
        "# Isso é essencial para manter os nós ordenados de acordo com sua heurística (valor estimado de custo até o objetivo), permitindo que sempre se escolha o \"mais promissor\" primeiro.\n",
        "\n",
        "def busca_gulosa(grafo, inicio, objetivo, heuristica):\n",
        "    # Fila de prioridade: (heuristica, nó, caminho)\n",
        "    # Define a função chamada busca_gulosa.\n",
        "    # Ela recebe quatro parâmetros:\n",
        "          # grafo: um dicionário que representa os nós e suas conexões.\n",
        "          # inicio: o nó de partida.\n",
        "          # objetivo: o nó que se deseja alcançar.\n",
        "          # heuristica: um dicionário com o valor heurístico de cada nó.\n",
        "\n",
        "    fronteira = []\n",
        "    # Cria uma lista vazia chamada fronteira, que será usada como fila de prioridade.\n",
        "\n",
        "    heapq.heappush(fronteira, (heuristica[inicio], inicio, [inicio]))\n",
        "    # Adiciona à fronteira a tupla com:\n",
        "          # 1. o valor da heurística do nó inicial,\n",
        "          # 2. o próprio nó inicial,\n",
        "          # 3. uma lista com o caminho percorrido até aqui (inicialmente só o próprio nó).\n",
        "    # Essa estrutura garante que a fila de prioridade esteja organizada com base na heurística.\n",
        "\n",
        "    visitados = set()\n",
        "    # Cria um conjunto vazio para armazenar os nós já visitados.\n",
        "    # Isso evita repetição de nós e ciclos.\n",
        "\n",
        "    while fronteira:\n",
        "        # Enquanto houver elementos na fila de prioridade (fronteira), o laço continua.\n",
        "\n",
        "        h_atual, no_atual, caminho = heapq.heappop(fronteira)\n",
        "        # Remove o elemento com menor valor heurístico da fila (nó mais promissor).\n",
        "        # Desempacota os três valores:\n",
        "              # h_atual: valor heurístico do nó atual.\n",
        "              # no_atual: o nó atual que será expandido.\n",
        "              # caminho: o caminho percorrido até esse nó.\n",
        "\n",
        "        if no_atual == objetivo:\n",
        "            return caminho  # Caminho encontrado\n",
        "            # Verifica se o nó atual é o objetivo.\n",
        "            # Se for, retorna o caminho encontrado até aqui.\n",
        "\n",
        "        if no_atual in visitados:\n",
        "            continue\n",
        "            # Se o nó já foi visitado antes, ele é ignorado e o loop continua com o próximo.\n",
        "\n",
        "        visitados.add(no_atual)\n",
        "        # Marca o nó atual como visitado, adicionando-o ao conjunto.\n",
        "\n",
        "        for vizinho in grafo.get(no_atual, []):\n",
        "            # Percorre os vizinhos do nó atual.\n",
        "            # Usa grafo.get(no_atual, []) para evitar erro caso o nó não tenha vizinhos (retorna lista vazia).\n",
        "            if vizinho not in visitados:\n",
        "                # Verifica se o vizinho ainda não foi visitado.\n",
        "                novo_caminho = caminho + [vizinho]\n",
        "                # Cria um novo caminho que é o caminho atual mais o vizinho.\n",
        "                heapq.heappush(fronteira, (heuristica[vizinho], vizinho, novo_caminho))\n",
        "                # Adiciona o vizinho à fila de prioridade, com:\n",
        "                      # sua heurística,\n",
        "                      # o próprio vizinho,\n",
        "                      # o novo caminho construído até ele.\n",
        "\n",
        "    return None  # Caminho não encontrado\n",
        "    # Se a fila de prioridade esvaziar e o objetivo não for encontrado, retorna None.\n"
      ]
    },
    {
      "cell_type": "code",
      "source": [
        "grafo = {\n",
        "    'A': ['B', 'C'],\n",
        "    'B': ['D', 'E'],\n",
        "    'C': ['F'],\n",
        "    'D': [],\n",
        "    'E': ['F'],\n",
        "    'F': []\n",
        "}\n",
        "# O grafo com os caminhos\n",
        "\n",
        "heuristica = {\n",
        "    'A': 6,\n",
        "    'B': 4,\n",
        "    'C': 5,\n",
        "    'D': 2,\n",
        "    'E': 1,\n",
        "    'F': 0\n",
        "}\n",
        "# o custo de cada caminho\n",
        "\n",
        "inicio = 'A'\n",
        "objetivo = 'F'\n",
        "\n",
        "caminho = busca_gulosa(grafo, inicio, objetivo, heuristica)\n",
        "\n",
        "if caminho:\n",
        "    print(\"Caminho encontrado:\", caminho)\n",
        "else:\n",
        "    print(\"Caminho não encontrado.\")\n"
      ],
      "metadata": {
        "colab": {
          "base_uri": "https://localhost:8080/"
        },
        "id": "8KZPHHHyOcwF",
        "outputId": "55d3a286-4ae0-49b1-abe7-be39ff16adbe"
      },
      "execution_count": null,
      "outputs": [
        {
          "output_type": "stream",
          "name": "stdout",
          "text": [
            "Caminho encontrado: ['A', 'B', 'E', 'F']\n"
          ]
        }
      ]
    }
  ]
}