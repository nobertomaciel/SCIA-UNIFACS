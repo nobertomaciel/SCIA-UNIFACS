{
  "nbformat": 4,
  "nbformat_minor": 0,
  "metadata": {
    "colab": {
      "provenance": []
    },
    "kernelspec": {
      "name": "python3",
      "display_name": "Python 3"
    },
    "language_info": {
      "name": "python"
    }
  },
  "cells": [
    {
      "cell_type": "code",
      "execution_count": 32,
      "metadata": {
        "id": "o4IbQJ5cpxMf"
      },
      "outputs": [],
      "source": [
        "import heapq\n",
        "\n",
        "def a_estrela(grafo, heuristica, inicio, objetivo):\n",
        "    open_list = []\n",
        "    heapq.heappush(open_list, (0, inicio))\n",
        "    veio_de = {inicio: None}\n",
        "    custo_ate_aqui = {inicio: 0}\n",
        "\n",
        "    while open_list:\n",
        "        prioridade, atual = heapq.heappop(open_list)\n",
        "\n",
        "        if atual == objetivo:\n",
        "            break\n",
        "\n",
        "        for vizinho, custo in grafo[atual].items():\n",
        "            novo_custo = custo_ate_aqui[atual] + custo\n",
        "            if vizinho not in custo_ate_aqui or novo_custo < custo_ate_aqui[vizinho]:\n",
        "                custo_ate_aqui[vizinho] = novo_custo\n",
        "                prioridade = novo_custo + heuristica[vizinho]\n",
        "                heapq.heappush(open_list, (prioridade, vizinho))\n",
        "                veio_de[vizinho] = atual\n",
        "\n",
        "    # reconstruir caminho\n",
        "    caminho = []\n",
        "    atual = objetivo\n",
        "    while atual is not None:\n",
        "        caminho.append(atual)\n",
        "        atual = veio_de.get(atual)\n",
        "    caminho.reverse()\n",
        "    return caminho, custo_ate_aqui[objetivo]\n"
      ]
    },
    {
      "cell_type": "code",
      "source": [
        "heuristica = {\n",
        "    \"Arad\": 366, \"Bucharest\": 0, \"Craiova\": 160, \"Dobreta\": 242,\n",
        "    \"Eforie\": 161, \"Fagaras\": 176, \"Giurgiu\": 77, \"Hirsova\": 151,\n",
        "    \"Iasi\": 226, \"Lugoj\": 244, \"Mehadia\": 241, \"Neamt\": 234,\n",
        "    \"Oradea\": 380, \"Pitesti\": 100, \"Rimnicu Vilcea\": 193, \"Sibiu\": 253,\n",
        "    \"Timisoara\": 329, \"Urziceni\": 80, \"Vaslui\": 199, \"Zerind\": 374\n",
        "}"
      ],
      "metadata": {
        "id": "3NyGvHFEp3Yw"
      },
      "execution_count": 33,
      "outputs": []
    },
    {
      "cell_type": "code",
      "source": [
        "grafo = {\n",
        "    \"Arad\": {\"Zerind\": 75, \"Sibiu\": 140, \"Timisoara\": 118},\n",
        "    \"Zerind\": {\"Arad\": 75, \"Oradea\": 71},\n",
        "    \"Oradea\": {\"Zerind\": 71, \"Sibiu\": 151},\n",
        "    \"Sibiu\": {\"Arad\": 140, \"Oradea\": 151, \"Fagaras\": 99, \"Rimnicu Vilcea\": 80},\n",
        "    \"Timisoara\": {\"Arad\": 118, \"Lugoj\": 111},\n",
        "    \"Lugoj\": {\"Timisoara\": 111, \"Mehadia\": 70},\n",
        "    \"Mehadia\": {\"Lugoj\": 70, \"Dobreta\": 75},\n",
        "    \"Dobreta\": {\"Mehadia\": 75, \"Craiova\": 120},\n",
        "    \"Craiova\": {\"Dobreta\": 120, \"Rimnicu Vilcea\": 146, \"Pitesti\": 138},\n",
        "    \"Rimnicu Vilcea\": {\"Sibiu\": 80, \"Craiova\": 146, \"Pitesti\": 97},\n",
        "    \"Fagaras\": {\"Sibiu\": 99, \"Bucharest\": 211},\n",
        "    \"Pitesti\": {\"Rimnicu Vilcea\": 97, \"Craiova\": 138, \"Bucharest\": 101},\n",
        "    \"Bucharest\": {\"Fagaras\": 211, \"Pitesti\": 101, \"Giurgiu\": 90, \"Urziceni\": 85},\n",
        "    \"Giurgiu\": {\"Bucharest\": 90},\n",
        "    \"Urziceni\": {\"Bucharest\": 85, \"Hirsova\": 98, \"Vaslui\": 142},\n",
        "    \"Hirsova\": {\"Urziceni\": 98, \"Eforie\": 86},\n",
        "    \"Eforie\": {\"Hirsova\": 86},\n",
        "    \"Vaslui\": {\"Urziceni\": 142, \"Iasi\": 92},\n",
        "    \"Iasi\": {\"Vaslui\": 92, \"Neamt\": 87},\n",
        "    \"Neamt\": {\"Iasi\": 87}\n",
        "}\n"
      ],
      "metadata": {
        "id": "WXB7sO5jqASG"
      },
      "execution_count": 34,
      "outputs": []
    },
    {
      "cell_type": "code",
      "source": [
        "caminho, custo = a_estrela(grafo, heuristica, \"Arad\", \"Bucharest\")\n",
        "print(\"Caminho:\", caminho)\n",
        "print(\"Custo total:\", custo)\n"
      ],
      "metadata": {
        "colab": {
          "base_uri": "https://localhost:8080/"
        },
        "id": "swy24aQCqE2o",
        "outputId": "0e944306-07f4-472b-d3a9-c4fbdccab16c"
      },
      "execution_count": 35,
      "outputs": [
        {
          "output_type": "stream",
          "name": "stdout",
          "text": [
            "Caminho: ['Arad', 'Sibiu', 'Rimnicu Vilcea', 'Pitesti', 'Bucharest']\n",
            "Custo total: 418\n"
          ]
        }
      ]
    }
  ]
}